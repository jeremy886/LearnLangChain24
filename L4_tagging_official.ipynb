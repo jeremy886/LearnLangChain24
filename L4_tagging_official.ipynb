{
 "cells": [
  {
   "cell_type": "code",
   "execution_count": 1,
   "id": "3bfd870e-a354-46b0-8699-ac97ff3fe290",
   "metadata": {},
   "outputs": [
    {
     "data": {
      "text/plain": [
       "True"
      ]
     },
     "execution_count": 1,
     "metadata": {},
     "output_type": "execute_result"
    }
   ],
   "source": [
    "from dotenv import load_dotenv\n",
    "\n",
    "load_dotenv()  # take environment variables from .env."
   ]
  },
  {
   "cell_type": "code",
   "execution_count": 2,
   "id": "e48a638b-03af-475b-a13b-61420d42b221",
   "metadata": {},
   "outputs": [],
   "source": [
    "from langchain.chains import create_tagging_chain, create_tagging_chain_pydantic\n",
    "from langchain_openai import ChatOpenAI"
   ]
  },
  {
   "cell_type": "code",
   "execution_count": 3,
   "id": "28a4aa8d-ba1e-4756-b87e-5c23fb90b23c",
   "metadata": {},
   "outputs": [],
   "source": [
    "# Schema\n",
    "schema = {\n",
    "    \"properties\": {\n",
    "        \"sentiment\": {\"type\": \"string\"},\n",
    "        \"aggressiveness\": {\"type\": \"integer\"},\n",
    "        \"language\": {\"type\": \"string\"},\n",
    "    }\n",
    "}\n",
    "\n",
    "# LLM\n",
    "llm = ChatOpenAI(temperature=0, model=\"gpt-3.5-turbo\")\n",
    "chain = create_tagging_chain(schema, llm)"
   ]
  },
  {
   "cell_type": "code",
   "execution_count": 4,
   "id": "1d0b2d6b-59b9-46f6-9259-f41e6579b343",
   "metadata": {},
   "outputs": [
    {
     "data": {
      "text/plain": [
       "{'input': 'Estoy increiblemente contento de haberte conocido! Creo que seremos muy buenos amigos!',\n",
       " 'text': {'sentiment': 'positive', 'language': 'Spanish'}}"
      ]
     },
     "execution_count": 4,
     "metadata": {},
     "output_type": "execute_result"
    }
   ],
   "source": [
    "inp = \"Estoy increiblemente contento de haberte conocido! Creo que seremos muy buenos amigos!\"\n",
    "chain.invoke(inp)"
   ]
  },
  {
   "cell_type": "code",
   "execution_count": 5,
   "id": "f6c61269-df6b-46bf-a804-cb2bff220afd",
   "metadata": {},
   "outputs": [
    {
     "data": {
      "text/plain": [
       "{'input': 'Estoy muy enojado con vos! Te voy a dar tu merecido!',\n",
       " 'text': {'sentiment': 'enojado', 'aggressiveness': 1, 'language': 'es'}}"
      ]
     },
     "execution_count": 5,
     "metadata": {},
     "output_type": "execute_result"
    }
   ],
   "source": [
    "inp = \"Estoy muy enojado con vos! Te voy a dar tu merecido!\"\n",
    "chain.invoke(inp)"
   ]
  },
  {
   "cell_type": "markdown",
   "id": "d6f02644-eda9-4168-9c33-077fcca6cea4",
   "metadata": {},
   "source": [
    "# Finer control\n",
    "\n",
    "Careful schema definition gives us more control over the model’s output.\n",
    "\n",
    "Specifically, we can define:\n",
    "\n",
    "- possible values for each property\n",
    "- description to make sure that the model understands the property\n",
    "- required properties to be returned\n",
    "Here is an example of how we can use _enum_, _description_, and _required_ to control for each of the previously mentioned aspects:"
   ]
  },
  {
   "cell_type": "code",
   "execution_count": 6,
   "id": "2bac3ded-f532-4797-84c3-331d2dc54096",
   "metadata": {},
   "outputs": [],
   "source": [
    "schema = {\n",
    "    \"properties\": {\n",
    "        \"aggressiveness\": {\n",
    "            \"type\": \"integer\",\n",
    "            \"enum\": [1, 2, 3, 4, 5],\n",
    "            \"description\": \"describes how aggressive the statement is, the higher the number the more aggressive\",\n",
    "        },\n",
    "        \"language\": {\n",
    "            \"type\": \"string\",\n",
    "            \"enum\": [\"spanish\", \"english\", \"french\", \"german\", \"italian\"],\n",
    "        },\n",
    "    },\n",
    "    \"required\": [\"language\", \"sentiment\", \"aggressiveness\"],\n",
    "}"
   ]
  },
  {
   "cell_type": "code",
   "execution_count": 7,
   "id": "50886bb1-4b46-4a69-87cf-65a3565eb791",
   "metadata": {},
   "outputs": [],
   "source": [
    "chain = create_tagging_chain(schema, llm)"
   ]
  },
  {
   "cell_type": "code",
   "execution_count": 9,
   "id": "7f473a34-1ed4-49a8-81f6-5f06602b0522",
   "metadata": {},
   "outputs": [
    {
     "data": {
      "text/plain": [
       "{'input': 'Estoy increiblemente contento de haberte conocido! Creo que seremos muy buenos amigos!',\n",
       " 'text': {'aggressiveness': '3', 'language': 'spanish'}}"
      ]
     },
     "execution_count": 9,
     "metadata": {},
     "output_type": "execute_result"
    }
   ],
   "source": [
    "inp = \"Estoy increiblemente contento de haberte conocido! Creo que seremos muy buenos amigos!\"\n",
    "chain.invoke(inp)"
   ]
  },
  {
   "cell_type": "code",
   "execution_count": 10,
   "id": "fe6158c2-71b2-4796-80d2-1bcb95725ec0",
   "metadata": {},
   "outputs": [
    {
     "data": {
      "text/plain": [
       "{'input': 'Estoy muy enojado con vos! Te voy a dar tu merecido!',\n",
       " 'text': {'aggressiveness': '5', 'language': 'spanish'}}"
      ]
     },
     "execution_count": 10,
     "metadata": {},
     "output_type": "execute_result"
    }
   ],
   "source": [
    "inp = \"Estoy muy enojado con vos! Te voy a dar tu merecido!\"\n",
    "chain.invoke(inp)"
   ]
  },
  {
   "cell_type": "code",
   "execution_count": 11,
   "id": "b933138b-c5ac-444e-9d8e-866479be8025",
   "metadata": {},
   "outputs": [
    {
     "data": {
      "text/plain": [
       "{'input': 'Weather is ok here, I can go outside without much more than a coat',\n",
       " 'text': {'aggressiveness': '3', 'language': 'english'}}"
      ]
     },
     "execution_count": 11,
     "metadata": {},
     "output_type": "execute_result"
    }
   ],
   "source": [
    "inp = \"Weather is ok here, I can go outside without much more than a coat\"\n",
    "chain.invoke(inp)"
   ]
  },
  {
   "cell_type": "markdown",
   "id": "9a36e598-e505-405e-93b9-f63cafd31f98",
   "metadata": {},
   "source": [
    "# Pydantic\n",
    "We can also use a Pydantic schema to specify the required properties and types.\n",
    "\n",
    "We can also send other arguments, such as enum or description, to each field.\n",
    "\n",
    "This lets us specify our schema in the same manner that we would a new class or function in Python with purely Pythonic types."
   ]
  },
  {
   "cell_type": "code",
   "execution_count": 12,
   "id": "1be8e6a3-9874-4d94-85a5-2cff27392ff2",
   "metadata": {},
   "outputs": [],
   "source": [
    "from langchain_core.pydantic_v1 import BaseModel, Field"
   ]
  },
  {
   "cell_type": "code",
   "execution_count": 13,
   "id": "03526853-8d1b-4b26-a863-e70087fc8ffd",
   "metadata": {},
   "outputs": [],
   "source": [
    "class Tags(BaseModel):\n",
    "    sentiment: str = Field(..., enum=[\"happy\", \"neutral\", \"sad\"])\n",
    "    aggressiveness: int = Field(\n",
    "        ...,\n",
    "        description=\"describes how aggressive the statement is, the higher the number the more aggressive\",\n",
    "        enum=[1, 2, 3, 4, 5],\n",
    "    )\n",
    "    language: str = Field(\n",
    "        ..., enum=[\"spanish\", \"english\", \"french\", \"german\", \"italian\"]\n",
    "    )"
   ]
  },
  {
   "cell_type": "code",
   "execution_count": 14,
   "id": "d11e7823-f4ff-40df-936a-379e258462f1",
   "metadata": {},
   "outputs": [],
   "source": [
    "chain = create_tagging_chain_pydantic(Tags, llm)"
   ]
  },
  {
   "cell_type": "code",
   "execution_count": 15,
   "id": "8ad18084-439a-41e3-860b-8d5e300db5c5",
   "metadata": {},
   "outputs": [],
   "source": [
    "inp = \"Estoy muy enojado con vos! Te voy a dar tu merecido!\"\n",
    "res = chain.invoke(inp)"
   ]
  },
  {
   "cell_type": "code",
   "execution_count": 16,
   "id": "27f24e2e-6143-429f-a8c1-478e86ae233c",
   "metadata": {},
   "outputs": [
    {
     "data": {
      "text/plain": [
       "{'input': 'Estoy muy enojado con vos! Te voy a dar tu merecido!',\n",
       " 'text': Tags(sentiment='sad', aggressiveness=5, language='spanish')}"
      ]
     },
     "execution_count": 16,
     "metadata": {},
     "output_type": "execute_result"
    }
   ],
   "source": [
    "res"
   ]
  },
  {
   "cell_type": "code",
   "execution_count": null,
   "id": "db20b711-fd32-47d8-8535-0f47c4de1dd9",
   "metadata": {},
   "outputs": [],
   "source": []
  }
 ],
 "metadata": {
  "kernelspec": {
   "display_name": "Python 3 (ipykernel)",
   "language": "python",
   "name": "python3"
  },
  "language_info": {
   "codemirror_mode": {
    "name": "ipython",
    "version": 3
   },
   "file_extension": ".py",
   "mimetype": "text/x-python",
   "name": "python",
   "nbconvert_exporter": "python",
   "pygments_lexer": "ipython3",
   "version": "3.11.7"
  }
 },
 "nbformat": 4,
 "nbformat_minor": 5
}
